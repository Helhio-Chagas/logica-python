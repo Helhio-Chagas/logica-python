{
 "cells": [
  {
   "cell_type": "code",
   "execution_count": null,
   "metadata": {},
   "outputs": [],
   "source": [
    "class MyClass:\n",
    "    a = 5\n",
    "    print('Hello')\n",
    "\n",
    "    def hello(self):\n",
    "      print(\"Hello, world!\")\n",
    "\n",
    "myc = MyClass()\n",
    "# print(a)\n",
    "print(myc.a)\n",
    "print(myc.hello())"
   ]
  },
  {
   "cell_type": "code",
   "execution_count": null,
   "metadata": {},
   "outputs": [],
   "source": [
    "class House:\n",
    "    '''\n",
    "    this is a stub for a class representing a house that cam be used to create objects and evaluate different metrics that we may require in constructing it.\n",
    "    '''\n",
    "    num_rooms = 5\n",
    "    bathrooms = 2\n",
    "    def cost_evaluation(self, rate):\n",
    "        print(self.num_rooms)\n",
    "        pass\n",
    "    # Fuctionality to calculate the costs from the area of the house\n",
    "\n",
    "house = House()\n",
    "print(house.num_rooms)\n",
    "print(House.num_rooms)\n",
    "\n",
    "house.num_rooms = 7\n",
    "print(house.num_rooms)\n",
    "print(House.num_rooms)\n",
    "\n",
    "House.num_rooms = 7\n",
    "print(house.num_rooms)\n",
    "print(House.num_rooms)"
   ]
  },
  {
   "cell_type": "code",
   "execution_count": null,
   "metadata": {},
   "outputs": [],
   "source": [
    "value = 7\n",
    "class A:\n",
    "    value = 5\n",
    "a = A()\n",
    "a.value = 3\n",
    "print(value)"
   ]
  },
  {
   "cell_type": "code",
   "execution_count": null,
   "metadata": {},
   "outputs": [],
   "source": [
    "bravo = 3\n",
    "b = B()\n",
    "class B:\n",
    "    bravo = 5\n",
    "    print(\"Inside class B\")\n",
    "c = B()\n",
    "print(b.bravo)"
   ]
  },
  {
   "cell_type": "code",
   "execution_count": null,
   "metadata": {},
   "outputs": [],
   "source": []
  }
 ],
 "metadata": {
  "kernelspec": {
   "display_name": "Python 3",
   "language": "python",
   "name": "python3"
  },
  "language_info": {
   "codemirror_mode": {
    "name": "ipython",
    "version": 3
   },
   "file_extension": ".py",
   "mimetype": "text/x-python",
   "name": "python",
   "nbconvert_exporter": "python",
   "pygments_lexer": "ipython3",
   "version": "3.12.2"
  }
 },
 "nbformat": 4,
 "nbformat_minor": 2
}
