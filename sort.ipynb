{
 "cells": [
  {
   "cell_type": "code",
   "execution_count": 9,
   "metadata": {},
   "outputs": [
    {
     "name": "stdout",
     "output_type": "stream",
     "text": [
      "[10, 3, 99, 14, 13, 26]\n",
      "[99, 26, 14, 13, 10, 3]\n",
      "[3, 10, 13, 14, 26, 99]\n"
     ]
    }
   ],
   "source": [
    "listaDesordenada = [10,3,99,14,13,26]\n",
    "print(listaDesordenada)\n",
    "\n",
    "# sort e sorted\n",
    "# sort - ordena a propria lista\n",
    "# sorted - ordena a lista original e retorna outra\n",
    "\n",
    "listaDesordenada.sort(reverse=True)\n",
    "listaOrdenada = sorted(listaDesordenada)\n",
    "\n",
    "print(listaDesordenada)\n",
    "print(listaOrdenada)"
   ]
  },
  {
   "cell_type": "code",
   "execution_count": null,
   "metadata": {},
   "outputs": [],
   "source": []
  }
 ],
 "metadata": {
  "kernelspec": {
   "display_name": "Python 3",
   "language": "python",
   "name": "python3"
  },
  "language_info": {
   "codemirror_mode": {
    "name": "ipython",
    "version": 3
   },
   "file_extension": ".py",
   "mimetype": "text/x-python",
   "name": "python",
   "nbconvert_exporter": "python",
   "pygments_lexer": "ipython3",
   "version": "3.12.2"
  }
 },
 "nbformat": 4,
 "nbformat_minor": 2
}
