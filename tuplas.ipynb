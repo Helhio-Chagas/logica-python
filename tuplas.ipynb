{
 "cells": [
  {
   "cell_type": "code",
   "execution_count": 4,
   "metadata": {},
   "outputs": [
    {
     "name": "stdout",
     "output_type": "stream",
     "text": [
      "strings\n",
      "1\n",
      "<class 'tuple'>\n",
      "1\n",
      "strings\n",
      "4.5\n",
      "True\n"
     ]
    }
   ],
   "source": [
    "my_tuple = (1, 'strings', 4.5, True)\n",
    "\n",
    "print(my_tuple[1])\n",
    "\n",
    "print(my_tuple.count('strings'))\n",
    "\n",
    "print(type(my_tuple))\n",
    "\n",
    "for x in my_tuple:\n",
    "    print(x)"
   ]
  }
 ],
 "metadata": {
  "kernelspec": {
   "display_name": "Python 3",
   "language": "python",
   "name": "python3"
  },
  "language_info": {
   "codemirror_mode": {
    "name": "ipython",
    "version": 3
   },
   "file_extension": ".py",
   "mimetype": "text/x-python",
   "name": "python",
   "nbconvert_exporter": "python",
   "pygments_lexer": "ipython3",
   "version": "3.12.2"
  }
 },
 "nbformat": 4,
 "nbformat_minor": 2
}
