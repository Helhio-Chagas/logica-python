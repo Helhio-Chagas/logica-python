{
 "cells": [
  {
   "cell_type": "code",
   "execution_count": 9,
   "metadata": {},
   "outputs": [
    {
     "name": "stdout",
     "output_type": "stream",
     "text": [
      "Bill is great then 200!\n",
      "Total bill: 190\n"
     ]
    }
   ],
   "source": [
    "bill_total = 210\n",
    "discount1 = 10\n",
    "discount2 = 20\n",
    "\n",
    "if bill_total > 100 and bill_total < 200:\n",
    "    print(\"Bill is greater than 100!\")\n",
    "    bill_total = bill_total - discount1\n",
    "elif bill_total > 200:\n",
    "    print(\"Bill is great then 200!\")\n",
    "    bill_total = bill_total - discount2\n",
    "else:\n",
    "    print(\"Bill is less than 100!\")\n",
    "\n",
    "print(\"Total bill: \" + str(bill_total))"
   ]
  },
  {
   "cell_type": "code",
   "execution_count": 11,
   "metadata": {},
   "outputs": [
    {
     "name": "stdout",
     "output_type": "stream",
     "text": [
      "Turning light on\n"
     ]
    }
   ],
   "source": [
    "#Light is currently off\n",
    "current = False\n",
    "\n",
    "if current:\n",
    "    current = False\n",
    "    print('Turning light off')\n",
    "\n",
    "if not current:\n",
    "    current = True\n",
    "    print('Turning light on')"
   ]
  },
  {
   "cell_type": "code",
   "execution_count": 14,
   "metadata": {},
   "outputs": [
    {
     "name": "stdout",
     "output_type": "stream",
     "text": [
      "Turning light on\n"
     ]
    }
   ],
   "source": [
    "current = False\n",
    "\n",
    "if current:\n",
    "    current = False\n",
    "    print('Turning light off')\n",
    "else: \n",
    "    current = True\n",
    "    print('Turning light on')"
   ]
  },
  {
   "cell_type": "code",
   "execution_count": 16,
   "metadata": {},
   "outputs": [
    {
     "name": "stdout",
     "output_type": "stream",
     "text": [
      "Total Bill:  99.2\n"
     ]
    }
   ],
   "source": [
    "loyalty_customer = True\n",
    "total_bill = 124\n",
    "\n",
    "if loyalty_customer and total_bill > 100:\n",
    "    #give 20% discount\n",
    "    total_bill = total_bill - (float(total_bill)/ 100) * 20\n",
    "elif total_bill > 100:\n",
    "    #give 10% discount\n",
    "    total_bill = total_bill - (float(total_bill)/ 100) * 10\n",
    "else:\n",
    "    #sorry no discount, 5% service charge applied.\n",
    "    print('Sorry, no discount ...')\n",
    "\n",
    "print('Total Bill: ', float(total_bill))"
   ]
  }
 ],
 "metadata": {
  "kernelspec": {
   "display_name": "Python 3",
   "language": "python",
   "name": "python3"
  },
  "language_info": {
   "codemirror_mode": {
    "name": "ipython",
    "version": 3
   },
   "file_extension": ".py",
   "mimetype": "text/x-python",
   "name": "python",
   "nbconvert_exporter": "python",
   "pygments_lexer": "ipython3",
   "version": "3.12.2"
  }
 },
 "nbformat": 4,
 "nbformat_minor": 2
}
