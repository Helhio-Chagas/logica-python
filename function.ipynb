{
 "cells": [
  {
   "cell_type": "code",
   "execution_count": 1,
   "metadata": {},
   "outputs": [
    {
     "name": "stdout",
     "output_type": "stream",
     "text": [
      "Total tax 26.25\n"
     ]
    }
   ],
   "source": [
    "bill = 175.00\n",
    "tax_rate = 15\n",
    "total_tax = (bill * tax_rate) / 100.00\n",
    "print('Total tax', total_tax)"
   ]
  },
  {
   "cell_type": "code",
   "execution_count": 8,
   "metadata": {},
   "outputs": [
    {
     "name": "stdout",
     "output_type": "stream",
     "text": [
      "Total Tax: 26.25\n",
      "Total Tax: 36.15\n"
     ]
    }
   ],
   "source": [
    "def calculate_tax(bill, tax_rate):\n",
    "    return round((bill * tax_rate) / 100.00, 2)\n",
    "print('Total Tax:', calculate_tax(175.00, 15))\n",
    "print('Total Tax:', calculate_tax(164.33, 22))"
   ]
  }
 ],
 "metadata": {
  "kernelspec": {
   "display_name": "Python 3",
   "language": "python",
   "name": "python3"
  },
  "language_info": {
   "codemirror_mode": {
    "name": "ipython",
    "version": 3
   },
   "file_extension": ".py",
   "mimetype": "text/x-python",
   "name": "python",
   "nbconvert_exporter": "python",
   "pygments_lexer": "ipython3",
   "version": "3.12.2"
  }
 },
 "nbformat": 4,
 "nbformat_minor": 2
}
