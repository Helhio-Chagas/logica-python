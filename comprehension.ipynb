{
 "cells": [
  {
   "cell_type": "markdown",
   "metadata": {},
   "source": [
    "## Compreensão de lista"
   ]
  },
  {
   "cell_type": "code",
   "execution_count": 3,
   "metadata": {},
   "outputs": [
    {
     "name": "stdout",
     "output_type": "stream",
     "text": [
      "Updating the list:  [5, 6, 8, 10, 14, 16, 20, 22, 26, 32, 34]\n",
      "Creating new list:  [10, 12, 16, 20, 28, 32, 40, 44, 52, 64, 68]\n",
      "Divisible by four [12, 16, 20, 28, 32, 40, 44, 52, 64, 68]\n",
      "Divisible by four minus one:  [11, 15, 19, 27, 31, 39, 43, 51, 63, 67]\n",
      "Nines:  [0, 9, 18, 27, 36, 45, 54, 63, 72, 81, 90, 99]\n"
     ]
    }
   ],
   "source": [
    "data = [2,3,5,7,11,13,17,19,23,29,31]\n",
    "\n",
    "# Ex1: List comprehension: updating the same list\n",
    "data = [x+3 for x in data]\n",
    "print(\"Updating the list: \", data)\n",
    "\n",
    "# Ex2: List comprehension: creating a different list with updated values\n",
    "new_data = [x*2 for x in data]\n",
    "print(\"Creating new list: \", new_data)\n",
    "\n",
    "# Ex3: With an if-condition: Multiples of four:\n",
    "fourx = [x for x in new_data if x%4 == 0 ]\n",
    "print(\"Divisible by four\", fourx)\n",
    "\n",
    "# Ex4: Alternatively, we can update the list with the if condition as well\n",
    "fourxsub = [x-1 for x in new_data if x%4 == 0 ]\n",
    "print(\"Divisible by four minus one: \", fourxsub)\n",
    "\n",
    "# Ex5: Using range function:\n",
    "nines = [x for x in range(100) if x%9 == 0]\n",
    "print(\"Nines: \", nines)"
   ]
  },
  {
   "cell_type": "markdown",
   "metadata": {},
   "source": [
    "## Compreensão de dicionário"
   ]
  },
  {
   "cell_type": "code",
   "execution_count": 6,
   "metadata": {},
   "outputs": [
    {
     "name": "stdout",
     "output_type": "stream",
     "text": [
      "[23, 24, 26, 28, 32, 34, 38, 40, 44, 50, 52]\n"
     ]
    }
   ],
   "source": [
    "# List comprehension:\n",
    "data = [x+3 for x in data]\n",
    "\n",
    "# Regular for loop:\n",
    "for x in range(len(data)):\n",
    "    data[x] = data[x] + 3\n",
    "print(data)"
   ]
  },
  {
   "cell_type": "code",
   "execution_count": 10,
   "metadata": {},
   "outputs": [
    {
     "name": "stdout",
     "output_type": "stream",
     "text": [
      "Using range():  {0: 0, 1: 2, 2: 4, 3: 6, 4: 8, 5: 10, 6: 12, 7: 14, 8: 16, 9: 18, 10: 20, 11: 22}\n",
      "Using one input list to create dict:  {1: 1, 2: 4, 3: 9, 4: 16, 5: 25, 6: 36, 7: 49, 8: 64, 9: 81, 10: 100, 11: 121, 12: 144}\n",
      "Using two lists:  {1: 'Jan', 2: 'Feb', 3: 'Mar', 4: 'Apr', 5: 'May', 6: 'June', 7: 'July', 8: 'Aug', 9: 'Sept', 10: 'Oct', 11: 'Nov', 12: 'Dec'}\n"
     ]
    }
   ],
   "source": [
    "# Using range() function and no input list\n",
    "usingrange = {x:x*2 for x in range(12)}\n",
    "print(\"Using range(): \",usingrange)\n",
    "\n",
    "# Lists\n",
    "months = [\"Jan\", \"Feb\", \"Mar\", \"Apr\", \"May\", \"June\", \"July\", \"Aug\", \"Sept\", \"Oct\", \"Nov\", \"Dec\"]\n",
    "number = [1,2,3,4,5,6,7,8,9,10,11,12]\n",
    "\n",
    "# Using one input list\n",
    "numdict = {x:x**2 for x in number}\n",
    "print(\"Using one input list to create dict: \", numdict)\n",
    "\n",
    "# Using two input lists\n",
    "months_dict = {key:value for (key, value) in zip(number, months)}\n",
    "print(\"Using two lists: \", months_dict)"
   ]
  },
  {
   "cell_type": "markdown",
   "metadata": {},
   "source": [
    "## Compreensão de conjunto"
   ]
  },
  {
   "cell_type": "code",
   "execution_count": 13,
   "metadata": {},
   "outputs": [
    {
     "name": "stdout",
     "output_type": "stream",
     "text": [
      "{10, 11, 13, 15, 17, 18, 19}\n"
     ]
    }
   ],
   "source": [
    "set_a = {x for x in range(10,20) if x not in [12,14,16]}\n",
    "print(set_a)"
   ]
  },
  {
   "cell_type": "markdown",
   "metadata": {},
   "source": [
    "## Compreensão do gerador"
   ]
  },
  {
   "cell_type": "code",
   "execution_count": 16,
   "metadata": {},
   "outputs": [
    {
     "name": "stdout",
     "output_type": "stream",
     "text": [
      "<generator object <genexpr> at 0x0000016F6948DD80>\n",
      "<class 'generator'>\n",
      "2 3 5 7 11 13 17 19 23 29 31 "
     ]
    }
   ],
   "source": [
    "data = [2,3,5,7,11,13,17,19,23,29,31]\n",
    "gen_obj = (x for x in data)\n",
    "print(gen_obj)\n",
    "print(type(gen_obj))\n",
    "for items in gen_obj:\n",
    "    print(items, end = \" \")"
   ]
  },
  {
   "cell_type": "code",
   "execution_count": 17,
   "metadata": {},
   "outputs": [],
   "source": [
    "def square(num):\n",
    "    return num * 2"
   ]
  }
 ],
 "metadata": {
  "kernelspec": {
   "display_name": "Python 3",
   "language": "python",
   "name": "python3"
  },
  "language_info": {
   "codemirror_mode": {
    "name": "ipython",
    "version": 3
   },
   "file_extension": ".py",
   "mimetype": "text/x-python",
   "name": "python",
   "nbconvert_exporter": "python",
   "pygments_lexer": "ipython3",
   "version": "3.12.2"
  }
 },
 "nbformat": 4,
 "nbformat_minor": 2
}
